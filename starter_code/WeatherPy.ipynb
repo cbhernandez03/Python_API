{
 "cells": [
  {
   "cell_type": "markdown",
   "metadata": {},
   "source": [
    "# WeatherPy\n",
    "\n",
    "---\n",
    "\n",
    "## Starter Code to Generate Random Geographic Coordinates and a List of Cities"
   ]
  },
  {
   "cell_type": "code",
   "execution_count": 1,
   "metadata": {
    "scrolled": true
   },
   "outputs": [],
   "source": [
    "# Dependencies and Setup\n",
    "import matplotlib.pyplot as plt\n",
    "import pandas as pd\n",
    "import numpy as np\n",
    "import requests\n",
    "import time\n",
    "from scipy.stats import linregress\n",
    "\n",
    "# Impor the OpenWeatherMap API key\n",
    "from api_keys import weather_api_key\n",
    "\n",
    "# Import citipy to determine the cities based on latitude and longitude\n",
    "from citipy import citipy"
   ]
  },
  {
   "cell_type": "markdown",
   "metadata": {},
   "source": [
    "### Generate the Cities List by Using the `citipy` Library"
   ]
  },
  {
   "cell_type": "code",
   "execution_count": 3,
   "metadata": {},
   "outputs": [
    {
     "name": "stdout",
     "output_type": "stream",
     "text": [
      "Number of cities in the list: 499\n"
     ]
    }
   ],
   "source": [
    "# Empty list for holding the latitude and longitude combinations\n",
    "lat_lngs = []\n",
    "\n",
    "# Empty list for holding the cities names\n",
    "cities = []\n",
    "\n",
    "# Range of latitudes and longitudes\n",
    "lat_range = (-10, 10)\n",
    "lng_range = (-100, 100)\n",
    "\n",
    "# Create a set of random lat and lng combinations\n",
    "lats = np.random.uniform(lat_range[0], lat_range[1], size=1500)\n",
    "lngs = np.random.uniform(lng_range[0], lng_range[1], size=1500)\n",
    "lat_lngs = zip(lats, lngs)\n",
    "\n",
    "# Identify nearest city for each lat, lng combination\n",
    "for lat_lng in lat_lngs:\n",
    "    city = citipy.nearest_city(lat_lng[0], lat_lng[1]).city_name\n",
    "    \n",
    "    # If the city is unique, then add it to a our cities list\n",
    "    if city not in cities:\n",
    "        cities.append(city)\n",
    "\n",
    "# Print the city count to confirm sufficient count\n",
    "print(f\"Number of cities in the list: {len(cities)}\")"
   ]
  },
  {
   "cell_type": "markdown",
   "metadata": {},
   "source": [
    "---"
   ]
  },
  {
   "cell_type": "markdown",
   "metadata": {},
   "source": [
    "## Requirement 1: Create Plots to Showcase the Relationship Between Weather Variables and Latitude\n",
    "\n",
    "### Use the OpenWeatherMap API to retrieve weather data from the cities list generated in the started code"
   ]
  },
  {
   "cell_type": "code",
   "execution_count": 4,
   "metadata": {},
   "outputs": [
    {
     "name": "stdout",
     "output_type": "stream",
     "text": [
      "Beginning Data Retrieval     \n",
      "-----------------------------\n",
      "Processing Record 1 of Set 1 | champerico\n",
      "Processing Record 2 of Set 1 | touros\n",
      "Processing Record 3 of Set 1 | ugoofaaru\n",
      "Processing Record 4 of Set 1 | hithadhoo\n",
      "Processing Record 5 of Set 1 | hambantota\n",
      "Processing Record 6 of Set 1 | olinda\n",
      "Processing Record 7 of Set 1 | biharamulo\n",
      "Processing Record 8 of Set 1 | yenagoa\n",
      "Processing Record 9 of Set 1 | bubaque\n",
      "Processing Record 10 of Set 1 | weligama\n",
      "Processing Record 11 of Set 1 | raga\n",
      "Processing Record 12 of Set 1 | ambilobe\n",
      "Processing Record 13 of Set 1 | cumaribo\n",
      "City not found. Skipping...\n",
      "Processing Record 14 of Set 1 | mbandaka\n",
      "Processing Record 15 of Set 1 | bengkulu\n",
      "Processing Record 16 of Set 1 | sucua\n",
      "Processing Record 17 of Set 1 | itaueira\n",
      "Processing Record 18 of Set 1 | puerto carreno\n",
      "Processing Record 19 of Set 1 | manta\n",
      "Processing Record 20 of Set 1 | takoradi\n",
      "Processing Record 21 of Set 1 | paracuru\n",
      "Processing Record 22 of Set 1 | kavaratti\n",
      "Processing Record 23 of Set 1 | jardim\n",
      "Processing Record 24 of Set 1 | nisia floresta\n",
      "Processing Record 25 of Set 1 | kanniyakumari\n",
      "Processing Record 26 of Set 1 | pauini\n",
      "Processing Record 27 of Set 1 | pitimbu\n",
      "Processing Record 28 of Set 1 | amapa\n",
      "Processing Record 29 of Set 1 | chepareria\n",
      "Processing Record 30 of Set 1 | laela\n",
      "Processing Record 31 of Set 1 | huicungo\n",
      "Processing Record 32 of Set 1 | puerto ayora\n",
      "Processing Record 33 of Set 1 | japura\n",
      "Processing Record 34 of Set 1 | georgetown\n",
      "Processing Record 35 of Set 1 | axim\n",
      "Processing Record 36 of Set 1 | tabou\n",
      "Processing Record 37 of Set 1 | garowe\n",
      "Processing Record 38 of Set 1 | chachapoyas\n",
      "Processing Record 39 of Set 1 | jamestown\n",
      "Processing Record 40 of Set 1 | oka\n",
      "Processing Record 41 of Set 1 | ziway\n",
      "Processing Record 42 of Set 1 | goderich\n",
      "Processing Record 43 of Set 1 | soure\n",
      "Processing Record 44 of Set 1 | gidole\n",
      "Processing Record 45 of Set 1 | elesbao veloso\n",
      "Processing Record 46 of Set 1 | malanje\n",
      "Processing Record 47 of Set 1 | faranah\n",
      "Processing Record 48 of Set 1 | santarem\n",
      "Processing Record 49 of Set 1 | victoria\n",
      "Processing Record 50 of Set 1 | apatou\n",
      "Processing Record 0 of Set 2 | san cristobal\n",
      "Processing Record 1 of Set 2 | sao felix do xingu\n",
      "Processing Record 2 of Set 2 | addis abeba\n",
      "Processing Record 3 of Set 2 | muyuka\n",
      "Processing Record 4 of Set 2 | ouadda\n",
      "Processing Record 5 of Set 2 | male\n",
      "Processing Record 6 of Set 2 | sibolga\n",
      "Processing Record 7 of Set 2 | harper\n",
      "Processing Record 8 of Set 2 | hobyo\n",
      "Processing Record 9 of Set 2 | sungaipenuh\n",
      "Processing Record 10 of Set 2 | marsabit\n",
      "Processing Record 11 of Set 2 | mogadishu\n",
      "Processing Record 12 of Set 2 | ibague\n",
      "Processing Record 13 of Set 2 | miraflores\n",
      "Processing Record 14 of Set 2 | owando\n",
      "Processing Record 15 of Set 2 | manaus\n",
      "Processing Record 16 of Set 2 | mbanza-ngungu\n",
      "Processing Record 17 of Set 2 | meulaboh\n",
      "Processing Record 18 of Set 2 | impfondo\n",
      "Processing Record 19 of Set 2 | grand-santi\n",
      "Processing Record 20 of Set 2 | thinadhoo\n",
      "Processing Record 21 of Set 2 | lamu\n",
      "Processing Record 22 of Set 2 | mpulungu\n",
      "Processing Record 23 of Set 2 | tonantins\n",
      "Processing Record 24 of Set 2 | bonthe\n",
      "Processing Record 25 of Set 2 | lafiagi\n",
      "Processing Record 26 of Set 2 | voi\n",
      "Processing Record 27 of Set 2 | sao filipe\n",
      "Processing Record 28 of Set 2 | sigli\n",
      "Processing Record 29 of Set 2 | barawe\n",
      "City not found. Skipping...\n",
      "Processing Record 30 of Set 2 | afmadu\n",
      "City not found. Skipping...\n",
      "Processing Record 31 of Set 2 | omboue\n",
      "Processing Record 32 of Set 2 | galle\n",
      "Processing Record 33 of Set 2 | anori\n",
      "Processing Record 34 of Set 2 | bartica\n",
      "Processing Record 35 of Set 2 | lethem\n",
      "Processing Record 36 of Set 2 | sokoni\n",
      "Processing Record 37 of Set 2 | manavalakurichi\n",
      "Processing Record 38 of Set 2 | usoke\n",
      "Processing Record 39 of Set 2 | mana\n",
      "Processing Record 40 of Set 2 | canutama\n",
      "Processing Record 41 of Set 2 | monte alegre\n",
      "Processing Record 42 of Set 2 | litoral del san juan\n",
      "City not found. Skipping...\n",
      "Processing Record 43 of Set 2 | ouesso\n",
      "Processing Record 44 of Set 2 | liwale\n",
      "Processing Record 45 of Set 2 | matara\n",
      "Processing Record 46 of Set 2 | boende\n",
      "Processing Record 47 of Set 2 | parrita\n",
      "Processing Record 48 of Set 2 | burica\n",
      "City not found. Skipping...\n",
      "Processing Record 49 of Set 2 | pocinhos\n",
      "Processing Record 0 of Set 3 | cabedelo\n",
      "Processing Record 1 of Set 3 | paoua\n",
      "Processing Record 2 of Set 3 | bertoua\n",
      "Processing Record 3 of Set 3 | esmeraldas\n",
      "Processing Record 4 of Set 3 | tibati\n",
      "Processing Record 5 of Set 3 | cayenne\n",
      "Processing Record 6 of Set 3 | mabaruma\n",
      "Processing Record 7 of Set 3 | mankono\n",
      "Processing Record 8 of Set 3 | wattegama\n",
      "Processing Record 9 of Set 3 | betare oya\n",
      "Processing Record 10 of Set 3 | saint-georges\n",
      "Processing Record 11 of Set 3 | mahibadhoo\n",
      "Processing Record 12 of Set 3 | talara\n",
      "Processing Record 13 of Set 3 | taua\n",
      "Processing Record 14 of Set 3 | alta floresta\n",
      "Processing Record 15 of Set 3 | bur gabo\n",
      "City not found. Skipping...\n",
      "Processing Record 16 of Set 3 | nicoya\n",
      "Processing Record 17 of Set 3 | ares\n",
      "Processing Record 18 of Set 3 | kaputa\n",
      "Processing Record 19 of Set 3 | malabo\n",
      "Processing Record 20 of Set 3 | cajazeiras\n",
      "Processing Record 21 of Set 3 | akom\n",
      "Processing Record 22 of Set 3 | hoima\n",
      "Processing Record 23 of Set 3 | areia branca\n",
      "Processing Record 24 of Set 3 | santa maria da boa vista\n",
      "Processing Record 25 of Set 3 | gamba\n",
      "Processing Record 26 of Set 3 | santa cruz\n",
      "Processing Record 27 of Set 3 | banda aceh\n",
      "Processing Record 28 of Set 3 | nedjo\n",
      "Processing Record 29 of Set 3 | wum\n",
      "Processing Record 30 of Set 3 | boa vista\n",
      "Processing Record 31 of Set 3 | mayumba\n",
      "Processing Record 32 of Set 3 | guasdualito\n",
      "Processing Record 33 of Set 3 | itarema\n",
      "Processing Record 34 of Set 3 | mangai\n",
      "Processing Record 35 of Set 3 | upata\n",
      "Processing Record 36 of Set 3 | acarau\n",
      "Processing Record 37 of Set 3 | natal\n",
      "Processing Record 38 of Set 3 | sao gabriel da cachoeira\n",
      "Processing Record 39 of Set 3 | la macarena\n",
      "Processing Record 40 of Set 3 | sao raimundo das mangabeiras\n",
      "Processing Record 41 of Set 3 | felidhoo\n",
      "City not found. Skipping...\n",
      "Processing Record 42 of Set 3 | okitipupa\n",
      "Processing Record 43 of Set 3 | kudahuvadhoo\n",
      "Processing Record 44 of Set 3 | mahaicony\n",
      "City not found. Skipping...\n",
      "Processing Record 45 of Set 3 | kalmunai\n",
      "Processing Record 46 of Set 3 | soyo\n",
      "Processing Record 47 of Set 3 | mlimba\n",
      "Processing Record 48 of Set 3 | puyo\n",
      "Processing Record 49 of Set 3 | nieuw amsterdam\n",
      "Processing Record 0 of Set 4 | salinopolis\n",
      "Processing Record 1 of Set 4 | paita\n",
      "Processing Record 2 of Set 4 | suarez\n",
      "Processing Record 3 of Set 4 | acara\n",
      "Processing Record 4 of Set 4 | msanga\n",
      "Processing Record 5 of Set 4 | macas\n",
      "Processing Record 6 of Set 4 | santa luzia\n",
      "Processing Record 7 of Set 4 | wageningen\n",
      "Processing Record 8 of Set 4 | lubao\n",
      "Processing Record 9 of Set 4 | porto velho\n",
      "Processing Record 10 of Set 4 | caninde\n",
      "Processing Record 11 of Set 4 | la palma\n",
      "Processing Record 12 of Set 4 | sembe\n",
      "Processing Record 13 of Set 4 | asaba\n",
      "Processing Record 14 of Set 4 | port-gentil\n",
      "Processing Record 15 of Set 4 | watsa\n",
      "Processing Record 16 of Set 4 | san-pedro\n",
      "Processing Record 17 of Set 4 | giyon\n",
      "Processing Record 18 of Set 4 | el alto\n",
      "Processing Record 19 of Set 4 | bambari\n",
      "Processing Record 20 of Set 4 | pimentel\n",
      "Processing Record 21 of Set 4 | padang\n",
      "Processing Record 22 of Set 4 | mwene-ditu\n",
      "Processing Record 23 of Set 4 | puerto escondido\n",
      "Processing Record 24 of Set 4 | bangui\n",
      "Processing Record 25 of Set 4 | alenquer\n",
      "Processing Record 26 of Set 4 | isoka\n",
      "Processing Record 27 of Set 4 | mitsamiouli\n",
      "Processing Record 28 of Set 4 | mahadday weyne\n",
      "City not found. Skipping...\n",
      "Processing Record 29 of Set 4 | waw\n",
      "Processing Record 30 of Set 4 | fort wellington\n",
      "Processing Record 31 of Set 4 | kumbo\n",
      "Processing Record 32 of Set 4 | moengo\n",
      "Processing Record 33 of Set 4 | dire dawa\n",
      "Processing Record 34 of Set 4 | itaituba\n",
      "Processing Record 35 of Set 4 | mutsamudu\n",
      "City not found. Skipping...\n",
      "Processing Record 36 of Set 4 | gambela\n",
      "Processing Record 37 of Set 4 | ipixuna\n",
      "Processing Record 38 of Set 4 | puerto rondon\n",
      "Processing Record 39 of Set 4 | odweyne\n",
      "Processing Record 40 of Set 4 | nkoteng\n",
      "Processing Record 41 of Set 4 | buchanan\n",
      "Processing Record 42 of Set 4 | coari\n"
     ]
    },
    {
     "name": "stdout",
     "output_type": "stream",
     "text": [
      "Processing Record 43 of Set 4 | pindiga\n",
      "Processing Record 44 of Set 4 | san felix\n",
      "Processing Record 45 of Set 4 | agustin codazzi\n",
      "Processing Record 46 of Set 4 | novo aripuana\n",
      "Processing Record 47 of Set 4 | ilebo\n",
      "Processing Record 48 of Set 4 | puerto leguizamo\n",
      "Processing Record 49 of Set 4 | wukari\n",
      "Processing Record 0 of Set 5 | kalemie\n",
      "Processing Record 1 of Set 5 | abidjan\n",
      "Processing Record 2 of Set 5 | santa quiteria\n",
      "Processing Record 3 of Set 5 | sabang\n",
      "Processing Record 4 of Set 5 | mbaiki\n",
      "Processing Record 5 of Set 5 | dodoma\n",
      "Processing Record 6 of Set 5 | kathu\n",
      "Processing Record 7 of Set 5 | kindu\n",
      "Processing Record 8 of Set 5 | sechura\n",
      "Processing Record 9 of Set 5 | abong mbang\n",
      "Processing Record 10 of Set 5 | kismayo\n",
      "Processing Record 11 of Set 5 | formoso do araguaia\n",
      "City not found. Skipping...\n",
      "Processing Record 12 of Set 5 | pizarro\n",
      "Processing Record 13 of Set 5 | bandarbeyla\n",
      "Processing Record 14 of Set 5 | bukama\n",
      "Processing Record 15 of Set 5 | lisala\n",
      "Processing Record 16 of Set 5 | viligili\n",
      "City not found. Skipping...\n",
      "Processing Record 17 of Set 5 | riaba\n",
      "City not found. Skipping...\n",
      "Processing Record 18 of Set 5 | camopi\n",
      "Processing Record 19 of Set 5 | kisanga\n",
      "Processing Record 20 of Set 5 | aflao\n",
      "Processing Record 21 of Set 5 | obo\n",
      "Processing Record 22 of Set 5 | luanda\n",
      "Processing Record 23 of Set 5 | kitui\n",
      "Processing Record 24 of Set 5 | san jose\n",
      "Processing Record 25 of Set 5 | bireun\n",
      "Processing Record 26 of Set 5 | chake chake\n",
      "Processing Record 27 of Set 5 | tarauaca\n",
      "Processing Record 28 of Set 5 | manadhoo\n",
      "Processing Record 29 of Set 5 | xuddur\n",
      "Processing Record 30 of Set 5 | narok\n",
      "Processing Record 31 of Set 5 | carnot\n",
      "Processing Record 32 of Set 5 | camocim\n",
      "Processing Record 33 of Set 5 | aketi\n",
      "Processing Record 34 of Set 5 | kabalo\n",
      "Processing Record 35 of Set 5 | mahenge\n",
      "Processing Record 36 of Set 5 | micheweni\n",
      "Processing Record 37 of Set 5 | jeremoabo\n",
      "Processing Record 38 of Set 5 | kapoeta\n",
      "Processing Record 39 of Set 5 | conakry\n",
      "Processing Record 40 of Set 5 | beyla\n",
      "Processing Record 41 of Set 5 | kasese\n",
      "Processing Record 42 of Set 5 | trairi\n",
      "Processing Record 43 of Set 5 | picota\n",
      "Processing Record 44 of Set 5 | uvinza\n",
      "Processing Record 45 of Set 5 | puerto lopez\n",
      "Processing Record 46 of Set 5 | monrovia\n",
      "Processing Record 47 of Set 5 | opobo\n",
      "City not found. Skipping...\n",
      "Processing Record 48 of Set 5 | ode\n",
      "Processing Record 49 of Set 5 | moreno\n",
      "Processing Record 0 of Set 6 | cururupu\n",
      "Processing Record 1 of Set 6 | quepos\n",
      "Processing Record 2 of Set 6 | sayalgudi\n",
      "City not found. Skipping...\n",
      "Processing Record 3 of Set 6 | maraa\n",
      "Processing Record 4 of Set 6 | matadi\n",
      "Processing Record 5 of Set 6 | barranca\n",
      "Processing Record 6 of Set 6 | mossendjo\n",
      "Processing Record 7 of Set 6 | kasongo-lunda\n",
      "Processing Record 8 of Set 6 | iquitos\n",
      "Processing Record 9 of Set 6 | jijiga\n",
      "Processing Record 10 of Set 6 | inirida\n",
      "Processing Record 11 of Set 6 | mpanda\n",
      "Processing Record 12 of Set 6 | gbadolite\n",
      "Processing Record 13 of Set 6 | loandjili\n",
      "Processing Record 14 of Set 6 | butembo\n",
      "Processing Record 15 of Set 6 | petrolina\n",
      "Processing Record 16 of Set 6 | puerto narino\n",
      "Processing Record 17 of Set 6 | pochutla\n",
      "Processing Record 18 of Set 6 | urucara\n",
      "Processing Record 19 of Set 6 | aquiraz\n",
      "Processing Record 20 of Set 6 | alappuzha\n",
      "Processing Record 21 of Set 6 | la arena\n",
      "Processing Record 22 of Set 6 | wajir\n",
      "Processing Record 23 of Set 6 | mgandu\n",
      "Processing Record 24 of Set 6 | kinkala\n",
      "Processing Record 25 of Set 6 | somanda\n",
      "Processing Record 26 of Set 6 | mugumu\n",
      "Processing Record 27 of Set 6 | port blair\n",
      "Processing Record 28 of Set 6 | chalinze\n",
      "Processing Record 29 of Set 6 | bongandanga\n",
      "Processing Record 30 of Set 6 | rio claro\n",
      "Processing Record 31 of Set 6 | basoko\n",
      "Processing Record 32 of Set 6 | tutoia\n",
      "Processing Record 33 of Set 6 | jaque\n",
      "Processing Record 34 of Set 6 | san miguel\n",
      "Processing Record 35 of Set 6 | inongo\n",
      "Processing Record 36 of Set 6 | bonfim\n",
      "Processing Record 37 of Set 6 | carutapera\n",
      "Processing Record 38 of Set 6 | la primavera\n",
      "Processing Record 39 of Set 6 | bouna\n",
      "Processing Record 40 of Set 6 | cotonou\n",
      "Processing Record 41 of Set 6 | kasongo\n",
      "Processing Record 42 of Set 6 | pueblo nuevo\n",
      "Processing Record 43 of Set 6 | manamadurai\n",
      "Processing Record 44 of Set 6 | eyl\n",
      "Processing Record 45 of Set 6 | mullaitivu\n",
      "City not found. Skipping...\n",
      "Processing Record 46 of Set 6 | baringo\n",
      "Processing Record 47 of Set 6 | santa isabel do rio negro\n",
      "Processing Record 48 of Set 6 | curillo\n",
      "Processing Record 49 of Set 6 | bolobo\n",
      "Processing Record 0 of Set 7 | ndele\n",
      "Processing Record 1 of Set 7 | boda\n",
      "Processing Record 2 of Set 7 | pangani\n",
      "Processing Record 3 of Set 7 | makueni\n",
      "Processing Record 4 of Set 7 | tambura\n",
      "Processing Record 5 of Set 7 | cocobeach\n",
      "Processing Record 6 of Set 7 | chota\n",
      "Processing Record 7 of Set 7 | carauari\n",
      "Processing Record 8 of Set 7 | caxito\n",
      "Processing Record 9 of Set 7 | saquena\n",
      "Processing Record 10 of Set 7 | tocantinopolis\n",
      "City not found. Skipping...\n",
      "Processing Record 11 of Set 7 | timbiqui\n",
      "Processing Record 12 of Set 7 | malakal\n",
      "Processing Record 13 of Set 7 | manicore\n",
      "Processing Record 14 of Set 7 | kollam\n",
      "Processing Record 15 of Set 7 | ngong\n",
      "Processing Record 16 of Set 7 | binga\n",
      "Processing Record 17 of Set 7 | lukaya\n",
      "Processing Record 18 of Set 7 | mumford\n",
      "Processing Record 19 of Set 7 | san vito\n",
      "Processing Record 20 of Set 7 | barreirinha\n",
      "Processing Record 21 of Set 7 | itacoatiara\n",
      "Processing Record 22 of Set 7 | jerico\n",
      "Processing Record 23 of Set 7 | bocas del toro\n",
      "Processing Record 24 of Set 7 | bibiani\n",
      "Processing Record 25 of Set 7 | tubuala\n",
      "Processing Record 26 of Set 7 | bellavista\n",
      "Processing Record 27 of Set 7 | balsas\n",
      "Processing Record 28 of Set 7 | mandera\n",
      "Processing Record 29 of Set 7 | conceicao do araguaia\n",
      "Processing Record 30 of Set 7 | beinamar\n",
      "Processing Record 31 of Set 7 | nchelenge\n",
      "Processing Record 32 of Set 7 | aripuana\n",
      "Processing Record 33 of Set 7 | prainha\n",
      "Processing Record 34 of Set 7 | gelemso\n",
      "Processing Record 35 of Set 7 | kananga\n",
      "Processing Record 36 of Set 7 | kajiado\n",
      "Processing Record 37 of Set 7 | bom jardim\n",
      "Processing Record 38 of Set 7 | mvangue\n",
      "Processing Record 39 of Set 7 | dabakala\n",
      "Processing Record 40 of Set 7 | sao joao do piaui\n",
      "Processing Record 41 of Set 7 | kisangani\n",
      "Processing Record 42 of Set 7 | manacapuru\n",
      "Processing Record 43 of Set 7 | ciudad bolivar\n",
      "Processing Record 44 of Set 7 | tucupita\n",
      "Processing Record 45 of Set 7 | uvira\n",
      "Processing Record 46 of Set 7 | pomabamba\n",
      "Processing Record 47 of Set 7 | kongolo\n",
      "Processing Record 48 of Set 7 | ferkessedougou\n",
      "Processing Record 49 of Set 7 | lastoursville\n",
      "Processing Record 0 of Set 8 | el doncello\n",
      "Processing Record 1 of Set 8 | musoma\n",
      "Processing Record 2 of Set 8 | senador jose porfirio\n",
      "Processing Record 3 of Set 8 | oriximina\n",
      "Processing Record 4 of Set 8 | sao jose de ribamar\n",
      "Processing Record 5 of Set 8 | bangassou\n",
      "Processing Record 6 of Set 8 | sinnamary\n",
      "Processing Record 7 of Set 8 | torit\n",
      "Processing Record 8 of Set 8 | luba\n",
      "Processing Record 9 of Set 8 | trincomalee\n",
      "Processing Record 10 of Set 8 | malindi\n",
      "Processing Record 11 of Set 8 | kabinda\n",
      "Processing Record 12 of Set 8 | piracuruca\n",
      "Processing Record 13 of Set 8 | uwayl\n",
      "City not found. Skipping...\n",
      "Processing Record 14 of Set 8 | sao paulo de olivenca\n",
      "Processing Record 15 of Set 8 | ginir\n",
      "Processing Record 16 of Set 8 | kilakarai\n",
      "Processing Record 17 of Set 8 | lai\n",
      "Processing Record 18 of Set 8 | kibara\n",
      "Processing Record 19 of Set 8 | nova olinda do norte\n",
      "Processing Record 20 of Set 8 | grajau\n",
      "Processing Record 21 of Set 8 | herran\n",
      "Processing Record 22 of Set 8 | pedasi\n",
      "Processing Record 23 of Set 8 | mosquera\n",
      "Processing Record 24 of Set 8 | eirunepe\n",
      "Processing Record 25 of Set 8 | roura\n",
      "Processing Record 26 of Set 8 | offa\n",
      "Processing Record 27 of Set 8 | jacareacanga\n",
      "Processing Record 28 of Set 8 | saravena\n",
      "Processing Record 29 of Set 8 | bonga\n",
      "Processing Record 30 of Set 8 | acajutla\n",
      "Processing Record 31 of Set 8 | tonj\n",
      "Processing Record 32 of Set 8 | lucapa\n",
      "Processing Record 33 of Set 8 | bol\n",
      "Processing Record 34 of Set 8 | nueva loja\n",
      "Processing Record 35 of Set 8 | lusambo\n",
      "Processing Record 36 of Set 8 | garoua\n",
      "Processing Record 37 of Set 8 | adiake\n",
      "Processing Record 38 of Set 8 | manoel urbano\n"
     ]
    },
    {
     "name": "stdout",
     "output_type": "stream",
     "text": [
      "Processing Record 39 of Set 8 | pio ix\n",
      "Processing Record 40 of Set 8 | phuket\n",
      "Processing Record 41 of Set 8 | mocajuba\n",
      "Processing Record 42 of Set 8 | ocamonte\n",
      "Processing Record 43 of Set 8 | cartagena del chaira\n",
      "Processing Record 44 of Set 8 | caucaia\n",
      "Processing Record 45 of Set 8 | konza\n",
      "Processing Record 46 of Set 8 | beni\n",
      "Processing Record 47 of Set 8 | tema\n",
      "Processing Record 48 of Set 8 | lagunas\n",
      "Processing Record 49 of Set 8 | tshikapa\n",
      "Processing Record 0 of Set 9 | kintampo\n",
      "Processing Record 1 of Set 9 | lagos\n",
      "Processing Record 2 of Set 9 | yendi\n",
      "Processing Record 3 of Set 9 | kalangala\n",
      "Processing Record 4 of Set 9 | katerero\n",
      "Processing Record 5 of Set 9 | mitu\n",
      "Processing Record 6 of Set 9 | tiebissou\n",
      "Processing Record 7 of Set 9 | numan\n",
      "Processing Record 8 of Set 9 | bumba\n",
      "Processing Record 9 of Set 9 | guamo\n",
      "Processing Record 10 of Set 9 | robertsport\n",
      "Processing Record 11 of Set 9 | mungwi\n",
      "Processing Record 12 of Set 9 | sao geraldo do araguaia\n",
      "Processing Record 13 of Set 9 | altamira\n",
      "Processing Record 14 of Set 9 | mendi\n",
      "Processing Record 15 of Set 9 | jalingo\n",
      "Processing Record 16 of Set 9 | konde\n",
      "Processing Record 17 of Set 9 | kibaya\n",
      "Processing Record 18 of Set 9 | novita\n",
      "Processing Record 19 of Set 9 | mbarara\n",
      "Processing Record 20 of Set 9 | jawhar\n",
      "Processing Record 21 of Set 9 | lodja\n",
      "Processing Record 22 of Set 9 | caetes\n",
      "Processing Record 23 of Set 9 | ikere\n",
      "Processing Record 24 of Set 9 | moyale\n",
      "Processing Record 25 of Set 9 | kilindoni\n",
      "Processing Record 26 of Set 9 | naberera\n",
      "Processing Record 27 of Set 9 | fonte boa\n",
      "Processing Record 28 of Set 9 | laje\n",
      "Processing Record 29 of Set 9 | puerto guzman\n",
      "Processing Record 30 of Set 9 | muli\n",
      "Processing Record 31 of Set 9 | uarini\n",
      "Processing Record 32 of Set 9 | lodwar\n",
      "Processing Record 33 of Set 9 | chapadinha\n",
      "Processing Record 34 of Set 9 | kiboga\n",
      "Processing Record 35 of Set 9 | dibaya\n",
      "City not found. Skipping...\n",
      "Processing Record 36 of Set 9 | envira\n",
      "Processing Record 37 of Set 9 | manono\n",
      "Processing Record 38 of Set 9 | kouango\n",
      "Processing Record 39 of Set 9 | barcelos\n",
      "Processing Record 40 of Set 9 | gamboma\n",
      "Processing Record 41 of Set 9 | puerto armuelles\n",
      "Processing Record 42 of Set 9 | calabozo\n",
      "Processing Record 43 of Set 9 | puerto ayacucho\n",
      "Processing Record 44 of Set 9 | rumonge\n",
      "Processing Record 45 of Set 9 | coetupo\n",
      "City not found. Skipping...\n",
      "Processing Record 46 of Set 9 | madingou\n",
      "Processing Record 47 of Set 9 | tefe\n",
      "Processing Record 48 of Set 9 | tamandare\n",
      "Processing Record 49 of Set 9 | chuka\n",
      "Processing Record 0 of Set 10 | mafinga\n",
      "Processing Record 1 of Set 10 | mongomo\n",
      "Processing Record 2 of Set 10 | praia\n",
      "Processing Record 3 of Set 10 | banyo\n",
      "Processing Record 4 of Set 10 | doba\n",
      "Processing Record 5 of Set 10 | anloga\n",
      "Processing Record 6 of Set 10 | magadi\n",
      "Processing Record 7 of Set 10 | timbauba\n",
      "Processing Record 8 of Set 10 | puerto baquerizo moreno\n",
      "Processing Record 9 of Set 10 | wanderlandia\n",
      "City not found. Skipping...\n",
      "Processing Record 10 of Set 10 | yangambi\n",
      "Processing Record 11 of Set 10 | moratuwa\n",
      "Processing Record 12 of Set 10 | birao\n",
      "Processing Record 13 of Set 10 | marienburg\n",
      "Processing Record 14 of Set 10 | kribi\n",
      "Processing Record 15 of Set 10 | ewo\n",
      "Processing Record 16 of Set 10 | salalah\n",
      "Processing Record 17 of Set 10 | batouri\n",
      "Processing Record 18 of Set 10 | pacasmayo\n",
      "Processing Record 19 of Set 10 | negombo\n",
      "Processing Record 20 of Set 10 | teluk nibung\n",
      "Processing Record 21 of Set 10 | nioki\n",
      "Processing Record 22 of Set 10 | tariba\n",
      "Processing Record 23 of Set 10 | rumuruti\n",
      "Processing Record 24 of Set 10 | zemio\n",
      "Processing Record 25 of Set 10 | bojaya\n",
      "City not found. Skipping...\n",
      "Processing Record 26 of Set 10 | idah\n",
      "Processing Record 27 of Set 10 | catole do rocha\n",
      "Processing Record 28 of Set 10 | camabatela\n",
      "Processing Record 29 of Set 10 | darien\n",
      "Processing Record 30 of Set 10 | abakaliki\n",
      "Processing Record 31 of Set 10 | waterloo\n",
      "Processing Record 32 of Set 10 | codajas\n",
      "Processing Record 33 of Set 10 | gilgil\n",
      "City not found. Skipping...\n",
      "Processing Record 34 of Set 10 | ndiekro\n",
      "City not found. Skipping...\n",
      "Processing Record 35 of Set 10 | amlame\n",
      "Processing Record 36 of Set 10 | agboville\n",
      "Processing Record 37 of Set 10 | utete\n",
      "Processing Record 38 of Set 10 | ipubi\n",
      "Processing Record 39 of Set 10 | jacqueville\n",
      "Processing Record 40 of Set 10 | savalou\n",
      "Processing Record 41 of Set 10 | alindao\n",
      "Processing Record 42 of Set 10 | gbarnga\n",
      "Processing Record 43 of Set 10 | katiola\n",
      "Processing Record 44 of Set 10 | buta\n",
      "Processing Record 45 of Set 10 | asosa\n",
      "Processing Record 46 of Set 10 | ikwiriri\n",
      "Processing Record 47 of Set 10 | djambala\n",
      "Processing Record 48 of Set 10 | tshela\n",
      "-----------------------------\n",
      "Data Retrieval Complete      \n",
      "-----------------------------\n"
     ]
    }
   ],
   "source": [
    "# Set the API base URL\n",
    "url = \"https://api.openweathermap.org/\"\n",
    "\n",
    "\n",
    "# Define an empty list to fetch the weather data for each city\n",
    "city_data = []\n",
    "\n",
    "# Print to logger\n",
    "print(\"Beginning Data Retrieval     \")\n",
    "print(\"-----------------------------\")\n",
    "\n",
    "# Create counters\n",
    "record_count = 1\n",
    "set_count = 1\n",
    "\n",
    "# Loop through all the cities in our list to fetch weather data\n",
    "for i, city in enumerate(cities):\n",
    "        \n",
    "    # Group cities in sets of 50 for logging purposes\n",
    "    if (i % 50 == 0 and i >= 50):\n",
    "        set_count += 1\n",
    "        record_count = 0\n",
    "\n",
    "    # Create endpoint URL with each city\n",
    "    city_url = f\"{url}data/2.5/weather?q={city}&appid={weather_api_key}\"\n",
    "    \n",
    "    # Log the url, record, and set numbers\n",
    "    print(\"Processing Record %s of Set %s | %s\" % (record_count, set_count, city))\n",
    "\n",
    "    # Add 1 to the record count\n",
    "    record_count += 1\n",
    "\n",
    "    # Run an API request for each of the cities\n",
    "    try:\n",
    "        # Parse the JSON and retrieve data\n",
    "        city_weather = requests.get(city_url).json()\n",
    "\n",
    "        # Parse out latitude, longitude, max temp, humidity, cloudiness, wind speed, country, and date\n",
    "        city_lat = city_weather['coord']['lat']\n",
    "        city_lng = city_weather['coord']['lon']\n",
    "        city_max_temp = city_weather['main']['temp_max']\n",
    "        city_humidity = city_weather['main']['humidity']\n",
    "        city_clouds = city_weather['clouds']['all']\n",
    "        city_wind = city_weather['wind']['speed']\n",
    "        city_country = city_weather['sys']['country']\n",
    "        city_date = city_weather['dt']\n",
    "\n",
    "        # Append the City information into city_data list\n",
    "        city_data.append({\"City\": city, \n",
    "                          \"Lat\": city_lat, \n",
    "                          \"Lng\": city_lng, \n",
    "                          \"Max Temp\": city_max_temp,\n",
    "                          \"Humidity\": city_humidity,\n",
    "                          \"Cloudiness\": city_clouds,\n",
    "                          \"Wind Speed\": city_wind,\n",
    "                          \"Country\": city_country,\n",
    "                          \"Date\": city_date})\n",
    "\n",
    "    # If an error is experienced, skip the city\n",
    "    except:\n",
    "        print(\"City not found. Skipping...\")\n",
    "        pass\n",
    "              \n",
    "# Indicate that Data Loading is complete \n",
    "print(\"-----------------------------\")\n",
    "print(\"Data Retrieval Complete      \")\n",
    "print(\"-----------------------------\")"
   ]
  },
  {
   "cell_type": "code",
   "execution_count": 5,
   "metadata": {},
   "outputs": [
    {
     "data": {
      "text/plain": [
       "City          475\n",
       "Lat           475\n",
       "Lng           475\n",
       "Max Temp      475\n",
       "Humidity      475\n",
       "Cloudiness    475\n",
       "Wind Speed    475\n",
       "Country       475\n",
       "Date          475\n",
       "dtype: int64"
      ]
     },
     "execution_count": 5,
     "metadata": {},
     "output_type": "execute_result"
    }
   ],
   "source": [
    "# Convert the cities weather data into a Pandas DataFrame\n",
    "city_data_df = pd.DataFrame.from_records(city_data)\n",
    "\n",
    "# Show Record Count\n",
    "city_data_df.count()"
   ]
  },
  {
   "cell_type": "code",
   "execution_count": 6,
   "metadata": {},
   "outputs": [
    {
     "data": {
      "text/html": [
       "<div>\n",
       "<style scoped>\n",
       "    .dataframe tbody tr th:only-of-type {\n",
       "        vertical-align: middle;\n",
       "    }\n",
       "\n",
       "    .dataframe tbody tr th {\n",
       "        vertical-align: top;\n",
       "    }\n",
       "\n",
       "    .dataframe thead th {\n",
       "        text-align: right;\n",
       "    }\n",
       "</style>\n",
       "<table border=\"1\" class=\"dataframe\">\n",
       "  <thead>\n",
       "    <tr style=\"text-align: right;\">\n",
       "      <th></th>\n",
       "      <th>City</th>\n",
       "      <th>Lat</th>\n",
       "      <th>Lng</th>\n",
       "      <th>Max Temp</th>\n",
       "      <th>Humidity</th>\n",
       "      <th>Cloudiness</th>\n",
       "      <th>Wind Speed</th>\n",
       "      <th>Country</th>\n",
       "      <th>Date</th>\n",
       "    </tr>\n",
       "  </thead>\n",
       "  <tbody>\n",
       "    <tr>\n",
       "      <th>0</th>\n",
       "      <td>champerico</td>\n",
       "      <td>14.3000</td>\n",
       "      <td>-91.9167</td>\n",
       "      <td>304.45</td>\n",
       "      <td>64</td>\n",
       "      <td>6</td>\n",
       "      <td>3.56</td>\n",
       "      <td>GT</td>\n",
       "      <td>1679959978</td>\n",
       "    </tr>\n",
       "    <tr>\n",
       "      <th>1</th>\n",
       "      <td>touros</td>\n",
       "      <td>-5.1989</td>\n",
       "      <td>-35.4608</td>\n",
       "      <td>298.51</td>\n",
       "      <td>86</td>\n",
       "      <td>38</td>\n",
       "      <td>3.97</td>\n",
       "      <td>BR</td>\n",
       "      <td>1679959979</td>\n",
       "    </tr>\n",
       "    <tr>\n",
       "      <th>2</th>\n",
       "      <td>ugoofaaru</td>\n",
       "      <td>5.6667</td>\n",
       "      <td>73.0000</td>\n",
       "      <td>300.87</td>\n",
       "      <td>72</td>\n",
       "      <td>44</td>\n",
       "      <td>3.93</td>\n",
       "      <td>MV</td>\n",
       "      <td>1679959980</td>\n",
       "    </tr>\n",
       "    <tr>\n",
       "      <th>3</th>\n",
       "      <td>hithadhoo</td>\n",
       "      <td>-0.6000</td>\n",
       "      <td>73.0833</td>\n",
       "      <td>300.89</td>\n",
       "      <td>77</td>\n",
       "      <td>100</td>\n",
       "      <td>3.64</td>\n",
       "      <td>MV</td>\n",
       "      <td>1679959980</td>\n",
       "    </tr>\n",
       "    <tr>\n",
       "      <th>4</th>\n",
       "      <td>hambantota</td>\n",
       "      <td>6.1241</td>\n",
       "      <td>81.1185</td>\n",
       "      <td>298.68</td>\n",
       "      <td>81</td>\n",
       "      <td>56</td>\n",
       "      <td>1.45</td>\n",
       "      <td>LK</td>\n",
       "      <td>1679959981</td>\n",
       "    </tr>\n",
       "  </tbody>\n",
       "</table>\n",
       "</div>"
      ],
      "text/plain": [
       "         City      Lat      Lng  Max Temp  Humidity  Cloudiness  Wind Speed  \\\n",
       "0  champerico  14.3000 -91.9167    304.45        64           6        3.56   \n",
       "1      touros  -5.1989 -35.4608    298.51        86          38        3.97   \n",
       "2   ugoofaaru   5.6667  73.0000    300.87        72          44        3.93   \n",
       "3   hithadhoo  -0.6000  73.0833    300.89        77         100        3.64   \n",
       "4  hambantota   6.1241  81.1185    298.68        81          56        1.45   \n",
       "\n",
       "  Country        Date  \n",
       "0      GT  1679959978  \n",
       "1      BR  1679959979  \n",
       "2      MV  1679959980  \n",
       "3      MV  1679959980  \n",
       "4      LK  1679959981  "
      ]
     },
     "execution_count": 6,
     "metadata": {},
     "output_type": "execute_result"
    }
   ],
   "source": [
    "# Display sample data\n",
    "city_data_df.head()"
   ]
  },
  {
   "cell_type": "code",
   "execution_count": 9,
   "metadata": {},
   "outputs": [],
   "source": [
    "# Export the City_Data into a csv\n",
    "city_data_df.to_csv(\"../output_data/cities.csv\", index_label=\"City_ID\")"
   ]
  },
  {
   "cell_type": "code",
   "execution_count": 10,
   "metadata": {},
   "outputs": [
    {
     "data": {
      "text/html": [
       "<div>\n",
       "<style scoped>\n",
       "    .dataframe tbody tr th:only-of-type {\n",
       "        vertical-align: middle;\n",
       "    }\n",
       "\n",
       "    .dataframe tbody tr th {\n",
       "        vertical-align: top;\n",
       "    }\n",
       "\n",
       "    .dataframe thead th {\n",
       "        text-align: right;\n",
       "    }\n",
       "</style>\n",
       "<table border=\"1\" class=\"dataframe\">\n",
       "  <thead>\n",
       "    <tr style=\"text-align: right;\">\n",
       "      <th></th>\n",
       "      <th>City</th>\n",
       "      <th>Lat</th>\n",
       "      <th>Lng</th>\n",
       "      <th>Max Temp</th>\n",
       "      <th>Humidity</th>\n",
       "      <th>Cloudiness</th>\n",
       "      <th>Wind Speed</th>\n",
       "      <th>Country</th>\n",
       "      <th>Date</th>\n",
       "    </tr>\n",
       "    <tr>\n",
       "      <th>City_ID</th>\n",
       "      <th></th>\n",
       "      <th></th>\n",
       "      <th></th>\n",
       "      <th></th>\n",
       "      <th></th>\n",
       "      <th></th>\n",
       "      <th></th>\n",
       "      <th></th>\n",
       "      <th></th>\n",
       "    </tr>\n",
       "  </thead>\n",
       "  <tbody>\n",
       "    <tr>\n",
       "      <th>0</th>\n",
       "      <td>champerico</td>\n",
       "      <td>14.3000</td>\n",
       "      <td>-91.9167</td>\n",
       "      <td>304.45</td>\n",
       "      <td>64</td>\n",
       "      <td>6</td>\n",
       "      <td>3.56</td>\n",
       "      <td>GT</td>\n",
       "      <td>1679959978</td>\n",
       "    </tr>\n",
       "    <tr>\n",
       "      <th>1</th>\n",
       "      <td>touros</td>\n",
       "      <td>-5.1989</td>\n",
       "      <td>-35.4608</td>\n",
       "      <td>298.51</td>\n",
       "      <td>86</td>\n",
       "      <td>38</td>\n",
       "      <td>3.97</td>\n",
       "      <td>BR</td>\n",
       "      <td>1679959979</td>\n",
       "    </tr>\n",
       "    <tr>\n",
       "      <th>2</th>\n",
       "      <td>ugoofaaru</td>\n",
       "      <td>5.6667</td>\n",
       "      <td>73.0000</td>\n",
       "      <td>300.87</td>\n",
       "      <td>72</td>\n",
       "      <td>44</td>\n",
       "      <td>3.93</td>\n",
       "      <td>MV</td>\n",
       "      <td>1679959980</td>\n",
       "    </tr>\n",
       "    <tr>\n",
       "      <th>3</th>\n",
       "      <td>hithadhoo</td>\n",
       "      <td>-0.6000</td>\n",
       "      <td>73.0833</td>\n",
       "      <td>300.89</td>\n",
       "      <td>77</td>\n",
       "      <td>100</td>\n",
       "      <td>3.64</td>\n",
       "      <td>MV</td>\n",
       "      <td>1679959980</td>\n",
       "    </tr>\n",
       "    <tr>\n",
       "      <th>4</th>\n",
       "      <td>hambantota</td>\n",
       "      <td>6.1241</td>\n",
       "      <td>81.1185</td>\n",
       "      <td>298.68</td>\n",
       "      <td>81</td>\n",
       "      <td>56</td>\n",
       "      <td>1.45</td>\n",
       "      <td>LK</td>\n",
       "      <td>1679959981</td>\n",
       "    </tr>\n",
       "  </tbody>\n",
       "</table>\n",
       "</div>"
      ],
      "text/plain": [
       "               City      Lat      Lng  Max Temp  Humidity  Cloudiness  \\\n",
       "City_ID                                                                 \n",
       "0        champerico  14.3000 -91.9167    304.45        64           6   \n",
       "1            touros  -5.1989 -35.4608    298.51        86          38   \n",
       "2         ugoofaaru   5.6667  73.0000    300.87        72          44   \n",
       "3         hithadhoo  -0.6000  73.0833    300.89        77         100   \n",
       "4        hambantota   6.1241  81.1185    298.68        81          56   \n",
       "\n",
       "         Wind Speed Country        Date  \n",
       "City_ID                                  \n",
       "0              3.56      GT  1679959978  \n",
       "1              3.97      BR  1679959979  \n",
       "2              3.93      MV  1679959980  \n",
       "3              3.64      MV  1679959980  \n",
       "4              1.45      LK  1679959981  "
      ]
     },
     "execution_count": 10,
     "metadata": {},
     "output_type": "execute_result"
    }
   ],
   "source": [
    "# Read saved data\n",
    "city_data_df = pd.read_csv(\"../output_data/cities.csv\", index_col=\"City_ID\")\n",
    "\n",
    "# Display sample data\n",
    "city_data_df.head()"
   ]
  },
  {
   "cell_type": "markdown",
   "metadata": {},
   "source": [
    "### Create the Scatter Plots Requested\n",
    "\n",
    "#### Latitude Vs. Temperature"
   ]
  },
  {
   "cell_type": "code",
   "execution_count": 11,
   "metadata": {
    "tags": []
   },
   "outputs": [
    {
     "data": {
      "image/png": "[encoded data removed]",
      "text/plain": [
       "<Figure size 432x288 with 1 Axes>"
      ]
     },
     "metadata": {
      "needs_background": "light"
     },
     "output_type": "display_data"
    }
   ],
   "source": [
    "# Build scatter plot for latitude vs. temperature\n",
    "x_values = city_data_df['Lat']\n",
    "y_values = city_data_df['Max Temp']\n",
    "plt.scatter(x_values,y_values)\n",
    "\n",
    "\n",
    "# Incorporate the other graph properties\n",
    "plt.title(\"Latitude vs Temperture (K)\")\n",
    "plt.xlabel('Latitude')\n",
    "plt.ylabel('Max Temperature')\n",
    "\n",
    "# Save the figure\n",
    "plt.savefig(\"../output_data/Fig1.png\")\n",
    "\n",
    "# Show plot\n",
    "plt.show()"
   ]
  },
  {
   "cell_type": "markdown",
   "metadata": {},
   "source": [
    "#### Latitude Vs. Humidity"
   ]
  },
  {
   "cell_type": "code",
   "execution_count": 12,
   "metadata": {},
   "outputs": [
    {
     "data": {
      "image/png": "[encoded data removed]",
      "text/plain": [
       "<Figure size 432x288 with 1 Axes>"
      ]
     },
     "metadata": {
      "needs_background": "light"
     },
     "output_type": "display_data"
    }
   ],
   "source": [
    "# Build the scatter plots for latitude vs. humidity\n",
    "x_values = city_data_df['Lat']\n",
    "y_values = city_data_df['Wind Speed']\n",
    "plt.scatter(x_values,y_values)\n",
    "\n",
    "# Incorporate the other graph properties\n",
    "plt.title(\"Latitude vs Humidity(%)\")\n",
    "plt.xlabel('Latitude')\n",
    "plt.ylabel('Humidity(%)')\n",
    "\n",
    "# Save the figure\n",
    "plt.savefig(\"../output_data/Fig2.png\")\n",
    "\n",
    "# Show plot\n",
    "plt.show()"
   ]
  },
  {
   "cell_type": "markdown",
   "metadata": {},
   "source": [
    "#### Latitude Vs. Cloudiness"
   ]
  },
  {
   "cell_type": "code",
   "execution_count": 13,
   "metadata": {},
   "outputs": [
    {
     "data": {
      "image/png": "[encoded data removed]",
      "text/plain": [
       "<Figure size 432x288 with 1 Axes>"
      ]
     },
     "metadata": {
      "needs_background": "light"
     },
     "output_type": "display_data"
    }
   ],
   "source": [
    "# Build the scatter plots for latitude vs. cloudiness\n",
    "x_values = city_data_df['Lat']\n",
    "y_values = city_data_df['Cloudiness']\n",
    "plt.scatter(x_values,y_values)\n",
    "\n",
    "# Incorporate the other graph properties\n",
    "plt.title(\"Latitude vs Cloudiness\")\n",
    "plt.xlabel('Latitude')\n",
    "plt.ylabel('Cloudiness')\n",
    "\n",
    "# Save the figure\n",
    "plt.savefig(\"../output_data/Fig3.png\")\n",
    "\n",
    "# Show plot\n",
    "plt.show()"
   ]
  },
  {
   "cell_type": "markdown",
   "metadata": {},
   "source": [
    "#### Latitude vs. Wind Speed Plot"
   ]
  },
  {
   "cell_type": "code",
   "execution_count": 14,
   "metadata": {},
   "outputs": [
    {
     "data": {
      "image/png": "[encoded data removed]",
      "text/plain": [
       "<Figure size 432x288 with 1 Axes>"
      ]
     },
     "metadata": {
      "needs_background": "light"
     },
     "output_type": "display_data"
    }
   ],
   "source": [
    "# Build the scatter plots for latitude vs. wind speed\n",
    "x_values = city_data_df['Lat']\n",
    "y_values = city_data_df['Wind Speed']\n",
    "plt.scatter(x_values,y_values)\n",
    "\n",
    "# Incorporate the other graph properties\n",
    "plt.title(\"Latitude vs Wind Speed\")\n",
    "plt.xlabel('Latitude')\n",
    "plt.ylabel('Wind Speed(m/s)')\n",
    "\n",
    "# Save the figure\n",
    "plt.savefig(\"../output_data/Fig4.png\")\n",
    "\n",
    "# Show plot\n",
    "plt.show()"
   ]
  },
  {
   "cell_type": "markdown",
   "metadata": {},
   "source": [
    "---\n",
    "\n",
    "## Requirement 2: Compute Linear Regression for Each Relationship\n"
   ]
  },
  {
   "cell_type": "code",
   "execution_count": 15,
   "metadata": {},
   "outputs": [
    {
     "name": "stdout",
     "output_type": "stream",
     "text": [
      "City_ID\n",
      "0      2.422423\n",
      "1      1.647800\n",
      "2      2.079452\n",
      "3      1.830498\n",
      "4      2.097623\n",
      "         ...   \n",
      "470    1.965004\n",
      "471    2.254249\n",
      "472    1.538262\n",
      "473    1.753242\n",
      "474    1.656365\n",
      "Name: Lat, Length: 475, dtype: float64\n"
     ]
    }
   ],
   "source": [
    "# Perform a linear regression on\n",
    "x_axis = city_data_df['Lat']\n",
    "y_axis = city_data_df['Wind Speed']\n",
    "(slope, intercept, rvalue, pvalue, stderr) = linregress(x_axis, y_axis)\n",
    "\n",
    "# Get regression values\n",
    "regress_values = x_axis * slope + intercept\n",
    "print(regress_values)"
   ]
  },
  {
   "cell_type": "code",
   "execution_count": 16,
   "metadata": {},
   "outputs": [
    {
     "name": "stdout",
     "output_type": "stream",
     "text": [
      "y = 0.04x +1.85\n"
     ]
    }
   ],
   "source": [
    "# Create line equation string\n",
    "line_eq = \"y = \" + str(round(slope,2)) + \"x +\" + str(round(intercept,2))\n",
    "print(line_eq)"
   ]
  },
  {
   "cell_type": "code",
   "execution_count": 17,
   "metadata": {},
   "outputs": [
    {
     "name": "stderr",
     "output_type": "stream",
     "text": [
      "/Users/christian/opt/anaconda3/envs/PythonData/lib/python3.7/site-packages/pandas/core/ops/array_ops.py:253: FutureWarning: elementwise comparison failed; returning scalar instead, but in the future will perform elementwise comparison\n",
      "  res_values = method(rvalues)\n"
     ]
    },
    {
     "ename": "ValueError",
     "evalue": "The truth value of a Series is ambiguous. Use a.empty, a.bool(), a.item(), a.any() or a.all().",
     "output_type": "error",
     "traceback": [
      "\u001b[0;31m---------------------------------------------------------------------------\u001b[0m",
      "\u001b[0;31mValueError\u001b[0m                                Traceback (most recent call last)",
      "\u001b[0;32m/var/folders/bv/f1kl_s5s24g3wfw952l6b3jc0000gn/T/ipykernel_5738/3253132192.py\u001b[0m in \u001b[0;36m<module>\u001b[0;34m\u001b[0m\n\u001b[1;32m      4\u001b[0m \u001b[0mplt\u001b[0m\u001b[0;34m.\u001b[0m\u001b[0mplot\u001b[0m\u001b[0;34m(\u001b[0m\u001b[0mx_values\u001b[0m\u001b[0;34m,\u001b[0m\u001b[0mregress_values\u001b[0m\u001b[0;34m,\u001b[0m\u001b[0;34m\"r-\"\u001b[0m\u001b[0;34m)\u001b[0m\u001b[0;34m\u001b[0m\u001b[0;34m\u001b[0m\u001b[0m\n\u001b[1;32m      5\u001b[0m \u001b[0;34m\u001b[0m\u001b[0m\n\u001b[0;32m----> 6\u001b[0;31m \u001b[0mplt\u001b[0m\u001b[0;34m.\u001b[0m\u001b[0mxlabel\u001b[0m\u001b[0;34m(\u001b[0m\u001b[0mx_axis\u001b[0m\u001b[0;34m)\u001b[0m\u001b[0;34m\u001b[0m\u001b[0;34m\u001b[0m\u001b[0m\n\u001b[0m\u001b[1;32m      7\u001b[0m \u001b[0mplt\u001b[0m\u001b[0;34m.\u001b[0m\u001b[0mylabel\u001b[0m\u001b[0;34m(\u001b[0m\u001b[0my_axis\u001b[0m\u001b[0;34m)\u001b[0m\u001b[0;34m\u001b[0m\u001b[0;34m\u001b[0m\u001b[0m\n\u001b[1;32m      8\u001b[0m \u001b[0mplt\u001b[0m\u001b[0;34m.\u001b[0m\u001b[0mannotate\u001b[0m\u001b[0;34m(\u001b[0m\u001b[0mline_eq\u001b[0m\u001b[0;34m,\u001b[0m\u001b[0;34m(\u001b[0m\u001b[0;36m20\u001b[0m\u001b[0;34m,\u001b[0m\u001b[0;36m15\u001b[0m\u001b[0;34m)\u001b[0m\u001b[0;34m,\u001b[0m\u001b[0mfontsize\u001b[0m\u001b[0;34m=\u001b[0m\u001b[0;36m15\u001b[0m\u001b[0;34m,\u001b[0m\u001b[0mcolor\u001b[0m\u001b[0;34m=\u001b[0m\u001b[0;34m\"red\"\u001b[0m\u001b[0;34m)\u001b[0m\u001b[0;34m\u001b[0m\u001b[0;34m\u001b[0m\u001b[0m\n",
      "\u001b[0;32m~/opt/anaconda3/envs/PythonData/lib/python3.7/site-packages/matplotlib/pyplot.py\u001b[0m in \u001b[0;36mxlabel\u001b[0;34m(xlabel, fontdict, labelpad, **kwargs)\u001b[0m\n\u001b[1;32m   3068\u001b[0m \u001b[0;32mdef\u001b[0m \u001b[0mxlabel\u001b[0m\u001b[0;34m(\u001b[0m\u001b[0mxlabel\u001b[0m\u001b[0;34m,\u001b[0m \u001b[0mfontdict\u001b[0m\u001b[0;34m=\u001b[0m\u001b[0;32mNone\u001b[0m\u001b[0;34m,\u001b[0m \u001b[0mlabelpad\u001b[0m\u001b[0;34m=\u001b[0m\u001b[0;32mNone\u001b[0m\u001b[0;34m,\u001b[0m \u001b[0;34m**\u001b[0m\u001b[0mkwargs\u001b[0m\u001b[0;34m)\u001b[0m\u001b[0;34m:\u001b[0m\u001b[0;34m\u001b[0m\u001b[0;34m\u001b[0m\u001b[0m\n\u001b[1;32m   3069\u001b[0m     return gca().set_xlabel(\n\u001b[0;32m-> 3070\u001b[0;31m         xlabel, fontdict=fontdict, labelpad=labelpad, **kwargs)\n\u001b[0m\u001b[1;32m   3071\u001b[0m \u001b[0;34m\u001b[0m\u001b[0m\n\u001b[1;32m   3072\u001b[0m \u001b[0;34m\u001b[0m\u001b[0m\n",
      "\u001b[0;32m~/opt/anaconda3/envs/PythonData/lib/python3.7/site-packages/matplotlib/axes/_axes.py\u001b[0m in \u001b[0;36mset_xlabel\u001b[0;34m(self, xlabel, fontdict, labelpad, **kwargs)\u001b[0m\n\u001b[1;32m    245\u001b[0m         \u001b[0;32mif\u001b[0m \u001b[0mlabelpad\u001b[0m \u001b[0;32mis\u001b[0m \u001b[0;32mnot\u001b[0m \u001b[0;32mNone\u001b[0m\u001b[0;34m:\u001b[0m\u001b[0;34m\u001b[0m\u001b[0;34m\u001b[0m\u001b[0m\n\u001b[1;32m    246\u001b[0m             \u001b[0mself\u001b[0m\u001b[0;34m.\u001b[0m\u001b[0mxaxis\u001b[0m\u001b[0;34m.\u001b[0m\u001b[0mlabelpad\u001b[0m \u001b[0;34m=\u001b[0m \u001b[0mlabelpad\u001b[0m\u001b[0;34m\u001b[0m\u001b[0;34m\u001b[0m\u001b[0m\n\u001b[0;32m--> 247\u001b[0;31m         \u001b[0;32mreturn\u001b[0m \u001b[0mself\u001b[0m\u001b[0;34m.\u001b[0m\u001b[0mxaxis\u001b[0m\u001b[0;34m.\u001b[0m\u001b[0mset_label_text\u001b[0m\u001b[0;34m(\u001b[0m\u001b[0mxlabel\u001b[0m\u001b[0;34m,\u001b[0m \u001b[0mfontdict\u001b[0m\u001b[0;34m,\u001b[0m \u001b[0;34m**\u001b[0m\u001b[0mkwargs\u001b[0m\u001b[0;34m)\u001b[0m\u001b[0;34m\u001b[0m\u001b[0;34m\u001b[0m\u001b[0m\n\u001b[0m\u001b[1;32m    248\u001b[0m \u001b[0;34m\u001b[0m\u001b[0m\n\u001b[1;32m    249\u001b[0m     \u001b[0;32mdef\u001b[0m \u001b[0mget_ylabel\u001b[0m\u001b[0;34m(\u001b[0m\u001b[0mself\u001b[0m\u001b[0;34m)\u001b[0m\u001b[0;34m:\u001b[0m\u001b[0;34m\u001b[0m\u001b[0;34m\u001b[0m\u001b[0m\n",
      "\u001b[0;32m~/opt/anaconda3/envs/PythonData/lib/python3.7/site-packages/matplotlib/axis.py\u001b[0m in \u001b[0;36mset_label_text\u001b[0;34m(self, label, fontdict, **kwargs)\u001b[0m\n\u001b[1;32m   1594\u001b[0m         \"\"\"\n\u001b[1;32m   1595\u001b[0m         \u001b[0mself\u001b[0m\u001b[0;34m.\u001b[0m\u001b[0misDefault_label\u001b[0m \u001b[0;34m=\u001b[0m \u001b[0;32mFalse\u001b[0m\u001b[0;34m\u001b[0m\u001b[0;34m\u001b[0m\u001b[0m\n\u001b[0;32m-> 1596\u001b[0;31m         \u001b[0mself\u001b[0m\u001b[0;34m.\u001b[0m\u001b[0mlabel\u001b[0m\u001b[0;34m.\u001b[0m\u001b[0mset_text\u001b[0m\u001b[0;34m(\u001b[0m\u001b[0mlabel\u001b[0m\u001b[0;34m)\u001b[0m\u001b[0;34m\u001b[0m\u001b[0;34m\u001b[0m\u001b[0m\n\u001b[0m\u001b[1;32m   1597\u001b[0m         \u001b[0;32mif\u001b[0m \u001b[0mfontdict\u001b[0m \u001b[0;32mis\u001b[0m \u001b[0;32mnot\u001b[0m \u001b[0;32mNone\u001b[0m\u001b[0;34m:\u001b[0m\u001b[0;34m\u001b[0m\u001b[0;34m\u001b[0m\u001b[0m\n\u001b[1;32m   1598\u001b[0m             \u001b[0mself\u001b[0m\u001b[0;34m.\u001b[0m\u001b[0mlabel\u001b[0m\u001b[0;34m.\u001b[0m\u001b[0mupdate\u001b[0m\u001b[0;34m(\u001b[0m\u001b[0mfontdict\u001b[0m\u001b[0;34m)\u001b[0m\u001b[0;34m\u001b[0m\u001b[0;34m\u001b[0m\u001b[0m\n",
      "\u001b[0;32m~/opt/anaconda3/envs/PythonData/lib/python3.7/site-packages/matplotlib/text.py\u001b[0m in \u001b[0;36mset_text\u001b[0;34m(self, s)\u001b[0m\n\u001b[1;32m   1148\u001b[0m         \u001b[0;32mif\u001b[0m \u001b[0ms\u001b[0m \u001b[0;32mis\u001b[0m \u001b[0;32mNone\u001b[0m\u001b[0;34m:\u001b[0m\u001b[0;34m\u001b[0m\u001b[0;34m\u001b[0m\u001b[0m\n\u001b[1;32m   1149\u001b[0m             \u001b[0ms\u001b[0m \u001b[0;34m=\u001b[0m \u001b[0;34m''\u001b[0m\u001b[0;34m\u001b[0m\u001b[0;34m\u001b[0m\u001b[0m\n\u001b[0;32m-> 1150\u001b[0;31m         \u001b[0;32mif\u001b[0m \u001b[0ms\u001b[0m \u001b[0;34m!=\u001b[0m \u001b[0mself\u001b[0m\u001b[0;34m.\u001b[0m\u001b[0m_text\u001b[0m\u001b[0;34m:\u001b[0m\u001b[0;34m\u001b[0m\u001b[0;34m\u001b[0m\u001b[0m\n\u001b[0m\u001b[1;32m   1151\u001b[0m             \u001b[0mself\u001b[0m\u001b[0;34m.\u001b[0m\u001b[0m_text\u001b[0m \u001b[0;34m=\u001b[0m \u001b[0mstr\u001b[0m\u001b[0;34m(\u001b[0m\u001b[0ms\u001b[0m\u001b[0;34m)\u001b[0m\u001b[0;34m\u001b[0m\u001b[0;34m\u001b[0m\u001b[0m\n\u001b[1;32m   1152\u001b[0m             \u001b[0mself\u001b[0m\u001b[0;34m.\u001b[0m\u001b[0mstale\u001b[0m \u001b[0;34m=\u001b[0m \u001b[0;32mTrue\u001b[0m\u001b[0;34m\u001b[0m\u001b[0;34m\u001b[0m\u001b[0m\n",
      "\u001b[0;32m~/opt/anaconda3/envs/PythonData/lib/python3.7/site-packages/pandas/core/generic.py\u001b[0m in \u001b[0;36m__nonzero__\u001b[0;34m(self)\u001b[0m\n\u001b[1;32m   1477\u001b[0m     \u001b[0;32mdef\u001b[0m \u001b[0m__nonzero__\u001b[0m\u001b[0;34m(\u001b[0m\u001b[0mself\u001b[0m\u001b[0;34m)\u001b[0m\u001b[0;34m:\u001b[0m\u001b[0;34m\u001b[0m\u001b[0;34m\u001b[0m\u001b[0m\n\u001b[1;32m   1478\u001b[0m         raise ValueError(\n\u001b[0;32m-> 1479\u001b[0;31m             \u001b[0;34mf\"The truth value of a {type(self).__name__} is ambiguous. \"\u001b[0m\u001b[0;34m\u001b[0m\u001b[0;34m\u001b[0m\u001b[0m\n\u001b[0m\u001b[1;32m   1480\u001b[0m             \u001b[0;34m\"Use a.empty, a.bool(), a.item(), a.any() or a.all().\"\u001b[0m\u001b[0;34m\u001b[0m\u001b[0;34m\u001b[0m\u001b[0m\n\u001b[1;32m   1481\u001b[0m         )\n",
      "\u001b[0;31mValueError\u001b[0m: The truth value of a Series is ambiguous. Use a.empty, a.bool(), a.item(), a.any() or a.all()."
     ]
    },
    {
     "data": {
      "image/png": "[encoded data removed]",
      "text/plain": [
       "<Figure size 432x288 with 1 Axes>"
      ]
     },
     "metadata": {
      "needs_background": "light"
     },
     "output_type": "display_data"
    }
   ],
   "source": [
    "# Define a function to create Linear Regression plots\n",
    "# Def regression_line(x, y):\n",
    "plt.scatter(x_values,y_values)\n",
    "plt.plot(x_values,regress_values,\"r-\")\n",
    "\n",
    "plt.xlabel(x_axis)\n",
    "plt.ylabel(y_axis)\n",
    "plt.annotate(line_eq,(20,15),fontsize=15,color=\"red\")\n",
    "\n",
    "plt.show()"
   ]
  },
  {
   "cell_type": "code",
   "execution_count": 18,
   "metadata": {},
   "outputs": [
    {
     "data": {
      "text/html": [
       "<div>\n",
       "<style scoped>\n",
       "    .dataframe tbody tr th:only-of-type {\n",
       "        vertical-align: middle;\n",
       "    }\n",
       "\n",
       "    .dataframe tbody tr th {\n",
       "        vertical-align: top;\n",
       "    }\n",
       "\n",
       "    .dataframe thead th {\n",
       "        text-align: right;\n",
       "    }\n",
       "</style>\n",
       "<table border=\"1\" class=\"dataframe\">\n",
       "  <thead>\n",
       "    <tr style=\"text-align: right;\">\n",
       "      <th></th>\n",
       "      <th>City</th>\n",
       "      <th>Lat</th>\n",
       "      <th>Lng</th>\n",
       "      <th>Max Temp</th>\n",
       "      <th>Humidity</th>\n",
       "      <th>Cloudiness</th>\n",
       "      <th>Wind Speed</th>\n",
       "      <th>Country</th>\n",
       "      <th>Date</th>\n",
       "    </tr>\n",
       "    <tr>\n",
       "      <th>City_ID</th>\n",
       "      <th></th>\n",
       "      <th></th>\n",
       "      <th></th>\n",
       "      <th></th>\n",
       "      <th></th>\n",
       "      <th></th>\n",
       "      <th></th>\n",
       "      <th></th>\n",
       "      <th></th>\n",
       "    </tr>\n",
       "  </thead>\n",
       "  <tbody>\n",
       "    <tr>\n",
       "      <th>0</th>\n",
       "      <td>champerico</td>\n",
       "      <td>14.3000</td>\n",
       "      <td>-91.9167</td>\n",
       "      <td>304.45</td>\n",
       "      <td>64</td>\n",
       "      <td>6</td>\n",
       "      <td>3.56</td>\n",
       "      <td>GT</td>\n",
       "      <td>1679959978</td>\n",
       "    </tr>\n",
       "    <tr>\n",
       "      <th>2</th>\n",
       "      <td>ugoofaaru</td>\n",
       "      <td>5.6667</td>\n",
       "      <td>73.0000</td>\n",
       "      <td>300.87</td>\n",
       "      <td>72</td>\n",
       "      <td>44</td>\n",
       "      <td>3.93</td>\n",
       "      <td>MV</td>\n",
       "      <td>1679959980</td>\n",
       "    </tr>\n",
       "    <tr>\n",
       "      <th>4</th>\n",
       "      <td>hambantota</td>\n",
       "      <td>6.1241</td>\n",
       "      <td>81.1185</td>\n",
       "      <td>298.68</td>\n",
       "      <td>81</td>\n",
       "      <td>56</td>\n",
       "      <td>1.45</td>\n",
       "      <td>LK</td>\n",
       "      <td>1679959981</td>\n",
       "    </tr>\n",
       "    <tr>\n",
       "      <th>7</th>\n",
       "      <td>yenagoa</td>\n",
       "      <td>4.9247</td>\n",
       "      <td>6.2642</td>\n",
       "      <td>298.41</td>\n",
       "      <td>88</td>\n",
       "      <td>97</td>\n",
       "      <td>1.67</td>\n",
       "      <td>NG</td>\n",
       "      <td>1679959983</td>\n",
       "    </tr>\n",
       "    <tr>\n",
       "      <th>8</th>\n",
       "      <td>bubaque</td>\n",
       "      <td>11.2833</td>\n",
       "      <td>-15.8333</td>\n",
       "      <td>298.85</td>\n",
       "      <td>70</td>\n",
       "      <td>73</td>\n",
       "      <td>5.79</td>\n",
       "      <td>GW</td>\n",
       "      <td>1679959673</td>\n",
       "    </tr>\n",
       "  </tbody>\n",
       "</table>\n",
       "</div>"
      ],
      "text/plain": [
       "               City      Lat      Lng  Max Temp  Humidity  Cloudiness  \\\n",
       "City_ID                                                                 \n",
       "0        champerico  14.3000 -91.9167    304.45        64           6   \n",
       "2         ugoofaaru   5.6667  73.0000    300.87        72          44   \n",
       "4        hambantota   6.1241  81.1185    298.68        81          56   \n",
       "7           yenagoa   4.9247   6.2642    298.41        88          97   \n",
       "8           bubaque  11.2833 -15.8333    298.85        70          73   \n",
       "\n",
       "         Wind Speed Country        Date  \n",
       "City_ID                                  \n",
       "0              3.56      GT  1679959978  \n",
       "2              3.93      MV  1679959980  \n",
       "4              1.45      LK  1679959981  \n",
       "7              1.67      NG  1679959983  \n",
       "8              5.79      GW  1679959673  "
      ]
     },
     "execution_count": 18,
     "metadata": {},
     "output_type": "execute_result"
    }
   ],
   "source": [
    "# Create a DataFrame with the Northern Hemisphere data (Latitude >= 0)\n",
    "northern_hemi_df = city_data_df[city_data_df['Lat'] >= 0]\n",
    "\n",
    "# Display sample data\n",
    "northern_hemi_df.head()"
   ]
  },
  {
   "cell_type": "code",
   "execution_count": 19,
   "metadata": {},
   "outputs": [
    {
     "data": {
      "text/html": [
       "<div>\n",
       "<style scoped>\n",
       "    .dataframe tbody tr th:only-of-type {\n",
       "        vertical-align: middle;\n",
       "    }\n",
       "\n",
       "    .dataframe tbody tr th {\n",
       "        vertical-align: top;\n",
       "    }\n",
       "\n",
       "    .dataframe thead th {\n",
       "        text-align: right;\n",
       "    }\n",
       "</style>\n",
       "<table border=\"1\" class=\"dataframe\">\n",
       "  <thead>\n",
       "    <tr style=\"text-align: right;\">\n",
       "      <th></th>\n",
       "      <th>City</th>\n",
       "      <th>Lat</th>\n",
       "      <th>Lng</th>\n",
       "      <th>Max Temp</th>\n",
       "      <th>Humidity</th>\n",
       "      <th>Cloudiness</th>\n",
       "      <th>Wind Speed</th>\n",
       "      <th>Country</th>\n",
       "      <th>Date</th>\n",
       "    </tr>\n",
       "    <tr>\n",
       "      <th>City_ID</th>\n",
       "      <th></th>\n",
       "      <th></th>\n",
       "      <th></th>\n",
       "      <th></th>\n",
       "      <th></th>\n",
       "      <th></th>\n",
       "      <th></th>\n",
       "      <th></th>\n",
       "      <th></th>\n",
       "    </tr>\n",
       "  </thead>\n",
       "  <tbody>\n",
       "    <tr>\n",
       "      <th>1</th>\n",
       "      <td>touros</td>\n",
       "      <td>-5.1989</td>\n",
       "      <td>-35.4608</td>\n",
       "      <td>298.51</td>\n",
       "      <td>86</td>\n",
       "      <td>38</td>\n",
       "      <td>3.97</td>\n",
       "      <td>BR</td>\n",
       "      <td>1679959979</td>\n",
       "    </tr>\n",
       "    <tr>\n",
       "      <th>3</th>\n",
       "      <td>hithadhoo</td>\n",
       "      <td>-0.6000</td>\n",
       "      <td>73.0833</td>\n",
       "      <td>300.89</td>\n",
       "      <td>77</td>\n",
       "      <td>100</td>\n",
       "      <td>3.64</td>\n",
       "      <td>MV</td>\n",
       "      <td>1679959980</td>\n",
       "    </tr>\n",
       "    <tr>\n",
       "      <th>5</th>\n",
       "      <td>olinda</td>\n",
       "      <td>-8.0089</td>\n",
       "      <td>-34.8553</td>\n",
       "      <td>301.00</td>\n",
       "      <td>65</td>\n",
       "      <td>40</td>\n",
       "      <td>3.60</td>\n",
       "      <td>BR</td>\n",
       "      <td>1679959981</td>\n",
       "    </tr>\n",
       "    <tr>\n",
       "      <th>6</th>\n",
       "      <td>biharamulo</td>\n",
       "      <td>-2.6319</td>\n",
       "      <td>31.3089</td>\n",
       "      <td>288.73</td>\n",
       "      <td>97</td>\n",
       "      <td>92</td>\n",
       "      <td>1.72</td>\n",
       "      <td>TZ</td>\n",
       "      <td>1679959981</td>\n",
       "    </tr>\n",
       "    <tr>\n",
       "      <th>11</th>\n",
       "      <td>ambilobe</td>\n",
       "      <td>-13.2000</td>\n",
       "      <td>49.0500</td>\n",
       "      <td>295.91</td>\n",
       "      <td>96</td>\n",
       "      <td>90</td>\n",
       "      <td>0.96</td>\n",
       "      <td>MG</td>\n",
       "      <td>1679959633</td>\n",
       "    </tr>\n",
       "  </tbody>\n",
       "</table>\n",
       "</div>"
      ],
      "text/plain": [
       "               City      Lat      Lng  Max Temp  Humidity  Cloudiness  \\\n",
       "City_ID                                                                 \n",
       "1            touros  -5.1989 -35.4608    298.51        86          38   \n",
       "3         hithadhoo  -0.6000  73.0833    300.89        77         100   \n",
       "5            olinda  -8.0089 -34.8553    301.00        65          40   \n",
       "6        biharamulo  -2.6319  31.3089    288.73        97          92   \n",
       "11         ambilobe -13.2000  49.0500    295.91        96          90   \n",
       "\n",
       "         Wind Speed Country        Date  \n",
       "City_ID                                  \n",
       "1              3.97      BR  1679959979  \n",
       "3              3.64      MV  1679959980  \n",
       "5              3.60      BR  1679959981  \n",
       "6              1.72      TZ  1679959981  \n",
       "11             0.96      MG  1679959633  "
      ]
     },
     "execution_count": 19,
     "metadata": {},
     "output_type": "execute_result"
    }
   ],
   "source": [
    "# Create a DataFrame with the Southern Hemisphere data (Latitude < 0)\n",
    "southern_hemi_df = city_data_df[city_data_df['Lat'] < 0]\n",
    "\n",
    "# Display sample data\n",
    "southern_hemi_df.head()"
   ]
  },
  {
   "cell_type": "markdown",
   "metadata": {},
   "source": [
    "###  Temperature vs. Latitude Linear Regression Plot"
   ]
  },
  {
   "cell_type": "code",
   "execution_count": 20,
   "metadata": {},
   "outputs": [
    {
     "data": {
      "image/png": "[encoded data removed]",
      "text/plain": [
       "<Figure size 432x288 with 1 Axes>"
      ]
     },
     "metadata": {
      "needs_background": "light"
     },
     "output_type": "display_data"
    }
   ],
   "source": [
    "# Linear regression on Northern Hemisphere\n",
    "slope, intercept, r_value, p_value, std_err = linregress(northern_hemi_df['Lat'], northern_hemi_df['Max Temp'])\n",
    "\n",
    "# create a scatter plot of the Max Temp vs. Latitude data\n",
    "plt.scatter(northern_hemi_df['Lat'], northern_hemi_df['Max Temp'])\n",
    "\n",
    "# add the linear regression line to the plot\n",
    "x = northern_hemi_df['Lat']\n",
    "y = slope * x + intercept\n",
    "plt.plot(x, y, color='red')\n",
    "\n",
    "# set the plot title and labels\n",
    "plt.title('Max Temp vs. Latitude (Northern Hemisphere)')\n",
    "plt.xlabel('Latitude')\n",
    "plt.ylabel('Max Temp')\n",
    "\n",
    "# display the plot\n",
    "plt.show()"
   ]
  },
  {
   "cell_type": "code",
   "execution_count": 21,
   "metadata": {},
   "outputs": [
    {
     "data": {
      "image/png": "[encoded data removed]",
      "text/plain": [
       "<Figure size 432x288 with 1 Axes>"
      ]
     },
     "metadata": {
      "needs_background": "light"
     },
     "output_type": "display_data"
    }
   ],
   "source": [
    "# Linear regression on Southern Hemisphere\n",
    "slope, intercept, r_value, p_value, std_err = linregress(southern_hemi_df['Lat'], southern_hemi_df['Max Temp'])\n",
    "\n",
    "# create a scatter plot of the Max Temp vs. Latitude data\n",
    "plt.scatter(southern_hemi_df['Lat'], southern_hemi_df['Max Temp'])\n",
    "\n",
    "# add the linear regression line to the plot\n",
    "x = southern_hemi_df['Lat']\n",
    "y = slope * x + intercept\n",
    "plt.plot(x, y, color='red')\n",
    "\n",
    "# set the plot title and labels\n",
    "plt.title('Max Temp vs. Latitude (Northern Hemisphere)')\n",
    "plt.xlabel('Latitude')\n",
    "plt.ylabel('Max Temp')\n",
    "\n",
    "# display the plot\n",
    "plt.show()"
   ]
  },
  {
   "cell_type": "markdown",
   "metadata": {},
   "source": [
    "**Discussion about the linear relationship:** YOUR RESPONSE HERE"
   ]
  },
  {
   "cell_type": "markdown",
   "metadata": {},
   "source": [
    "### Humidity vs. Latitude Linear Regression Plot"
   ]
  },
  {
   "cell_type": "code",
   "execution_count": 22,
   "metadata": {},
   "outputs": [
    {
     "data": {
      "image/png": "[encoded data removed]",
      "text/plain": [
       "<Figure size 432x288 with 1 Axes>"
      ]
     },
     "metadata": {
      "needs_background": "light"
     },
     "output_type": "display_data"
    }
   ],
   "source": [
    "# Northern Hemisphere\n",
    "slope, intercept, r_value, p_value, std_err = linregress(northern_hemi_df['Lat'], northern_hemi_df['Humidity'])\n",
    "\n",
    "# create a scatter plot of the Max Temp vs. Latitude data\n",
    "plt.scatter(northern_hemi_df['Lat'], northern_hemi_df['Humidity'])\n",
    "\n",
    "# add the linear regression line to the plot\n",
    "x = northern_hemi_df['Lat']\n",
    "y = slope * x + intercept\n",
    "plt.plot(x, y, color='red')\n",
    "\n",
    "# set the plot title and labels\n",
    "plt.title('Humidity vs. Latitude (Northern Hemisphere)')\n",
    "plt.xlabel('Latitude')\n",
    "plt.ylabel('Humidity')\n",
    "\n",
    "# display the plot\n",
    "plt.show()"
   ]
  },
  {
   "cell_type": "code",
   "execution_count": 23,
   "metadata": {},
   "outputs": [
    {
     "data": {
      "image/png": "[encoded data removed]",
      "text/plain": [
       "<Figure size 432x288 with 1 Axes>"
      ]
     },
     "metadata": {
      "needs_background": "light"
     },
     "output_type": "display_data"
    }
   ],
   "source": [
    "# Southern Hemisphere\n",
    "slope, intercept, r_value, p_value, std_err = linregress(southern_hemi_df['Lat'], southern_hemi_df['Humidity'])\n",
    "\n",
    "# create a scatter plot of the Max Temp vs. Latitude data\n",
    "plt.scatter(southern_hemi_df['Lat'], southern_hemi_df['Humidity'])\n",
    "\n",
    "# add the linear regression line to the plot\n",
    "x = southern_hemi_df['Lat']\n",
    "y = slope * x + intercept\n",
    "plt.plot(x, y, color='red')\n",
    "\n",
    "# set the plot title and labels\n",
    "plt.title('Humidity vs. Latitude (Northern Hemisphere)')\n",
    "plt.xlabel('Latitude')\n",
    "plt.ylabel('Humidity')\n",
    "\n",
    "# display the plot\n",
    "plt.show()"
   ]
  },
  {
   "cell_type": "markdown",
   "metadata": {},
   "source": [
    "**Discussion about the linear relationship:** YOUR RESPONSE HERE"
   ]
  },
  {
   "cell_type": "markdown",
   "metadata": {},
   "source": [
    "### Cloudiness vs. Latitude Linear Regression Plot"
   ]
  },
  {
   "cell_type": "code",
   "execution_count": 24,
   "metadata": {},
   "outputs": [
    {
     "data": {
      "image/png": "[encoded data removed]",
      "text/plain": [
       "<Figure size 432x288 with 1 Axes>"
      ]
     },
     "metadata": {
      "needs_background": "light"
     },
     "output_type": "display_data"
    }
   ],
   "source": [
    "# Northern Hemisphere\n",
    "slope, intercept, r_value, p_value, std_err = linregress(northern_hemi_df['Lat'], northern_hemi_df['Cloudiness'])\n",
    "\n",
    "# create a scatter plot of the Max Temp vs. Latitude data\n",
    "plt.scatter(northern_hemi_df['Lat'], northern_hemi_df['Cloudiness'])\n",
    "\n",
    "# add the linear regression line to the plot\n",
    "x = northern_hemi_df['Lat']\n",
    "y = slope * x + intercept\n",
    "plt.plot(x, y, color='red')\n",
    "\n",
    "# set the plot title and labels\n",
    "plt.title('Cloudiness vs. Latitude (Northern Hemisphere)')\n",
    "plt.xlabel('Latitude')\n",
    "plt.ylabel('Cloudiness')\n",
    "\n",
    "# display the plot\n",
    "plt.show()"
   ]
  },
  {
   "cell_type": "code",
   "execution_count": 26,
   "metadata": {},
   "outputs": [
    {
     "data": {
      "image/png": "[encoded data removed]",
      "text/plain": [
       "<Figure size 432x288 with 1 Axes>"
      ]
     },
     "metadata": {
      "needs_background": "light"
     },
     "output_type": "display_data"
    }
   ],
   "source": [
    "# Southern Hemisphere\n",
    "slope, intercept, r_value, p_value, std_err = linregress(southern_hemi_df['Lat'], southern_hemi_df['Cloudiness'])\n",
    "\n",
    "# create a scatter plot of the Max Temp vs. Latitude data\n",
    "plt.scatter(southern_hemi_df['Lat'], southern_hemi_df['Cloudiness'])\n",
    "\n",
    "# add the linear regression line to the plot\n",
    "x = southern_hemi_df['Lat']\n",
    "y = slope * x + intercept\n",
    "plt.plot(x, y, color='red')\n",
    "\n",
    "# set the plot title and labels\n",
    "plt.title('Cloudiness vs. Latitude (Northern Hemisphere)')\n",
    "plt.xlabel('Latitude')\n",
    "plt.ylabel('Cloudiness')\n",
    "\n",
    "# display the plot\n",
    "plt.show()"
   ]
  },
  {
   "cell_type": "markdown",
   "metadata": {},
   "source": [
    "**Discussion about the linear relationship:** YOUR RESPONSE HERE"
   ]
  },
  {
   "cell_type": "markdown",
   "metadata": {},
   "source": [
    "### Wind Speed vs. Latitude Linear Regression Plot"
   ]
  },
  {
   "cell_type": "code",
   "execution_count": 27,
   "metadata": {},
   "outputs": [
    {
     "data": {
      "image/png": "[encoded data removed]",
      "text/plain": [
       "<Figure size 432x288 with 1 Axes>"
      ]
     },
     "metadata": {
      "needs_background": "light"
     },
     "output_type": "display_data"
    }
   ],
   "source": [
    "# Northern Hemisphere\n",
    "slope, intercept, r_value, p_value, std_err = linregress(northern_hemi_df['Lat'], northern_hemi_df['Wind Speed'])\n",
    "\n",
    "# create a scatter plot of the Max Temp vs. Latitude data\n",
    "plt.scatter(northern_hemi_df['Lat'], northern_hemi_df['Wind Speed'])\n",
    "\n",
    "# add the linear regression line to the plot\n",
    "x = northern_hemi_df['Lat']\n",
    "y = slope * x + intercept\n",
    "plt.plot(x, y, color='red')\n",
    "\n",
    "# set the plot title and labels\n",
    "plt.title('Wind Speed vs. Latitude (Northern Hemisphere)')\n",
    "plt.xlabel('Latitude')\n",
    "plt.ylabel('Wind Speed')\n",
    "\n",
    "# display the plot\n",
    "plt.show()"
   ]
  },
  {
   "cell_type": "code",
   "execution_count": 28,
   "metadata": {},
   "outputs": [
    {
     "data": {
      "image/png": "[encoded data removed]",
      "text/plain": [
       "<Figure size 432x288 with 1 Axes>"
      ]
     },
     "metadata": {
      "needs_background": "light"
     },
     "output_type": "display_data"
    }
   ],
   "source": [
    "# Southern Hemisphere\n",
    "slope, intercept, r_value, p_value, std_err = linregress(southern_hemi_df['Lat'], southern_hemi_df['Wind Speed'])\n",
    "\n",
    "# create a scatter plot of the Max Temp vs. Latitude data\n",
    "plt.scatter(southern_hemi_df['Lat'], southern_hemi_df['Wind Speed'])\n",
    "\n",
    "# add the linear regression line to the plot\n",
    "x = southern_hemi_df['Lat']\n",
    "y = slope * x + intercept\n",
    "plt.plot(x, y, color='red')\n",
    "\n",
    "# set the plot title and labels\n",
    "plt.title('Wind Speed vs. Latitude (Northern Hemisphere)')\n",
    "plt.xlabel('Latitude')\n",
    "plt.ylabel('Wind Speed')\n",
    "\n",
    "# display the plot\n",
    "plt.show()"
   ]
  },
  {
   "cell_type": "markdown",
   "metadata": {},
   "source": [
    "**Discussion about the linear relationship:** YOUR RESPONSE HERE"
   ]
  },
  {
   "cell_type": "code",
   "execution_count": null,
   "metadata": {},
   "outputs": [],
   "source": []
  }
 ],
 "metadata": {
  "anaconda-cloud": {},
  "kernel_info": {
   "name": "python3"
  },
  "kernelspec": {
   "display_name": "Python 3 (ipykernel)",
   "language": "python",
   "name": "python3"
  },
  "language_info": {
   "codemirror_mode": {
    "name": "ipython",
    "version": 3
   },
   "file_extension": ".py",
   "mimetype": "text/x-python",
   "name": "python",
   "nbconvert_exporter": "python",
   "pygments_lexer": "ipython3",
   "version": "3.7.7"
  },
  "latex_envs": {
   "LaTeX_envs_menu_present": true,
   "autoclose": false,
   "autocomplete": true,
   "bibliofile": "biblio.bib",
   "cite_by": "apalike",
   "current_citInitial": 1,
   "eqLabelWithNumbers": true,
   "eqNumInitial": 1,
   "hotkeys": {
    "equation": "Ctrl-E",
    "itemize": "Ctrl-I"
   },
   "labels_anchors": false,
   "latex_user_defs": false,
   "report_style_numbering": false,
   "user_envs_cfg": false
  },
  "nteract": {
   "version": "0.12.3"
  }
 },
 "nbformat": 4,
 "nbformat_minor": 4
}
